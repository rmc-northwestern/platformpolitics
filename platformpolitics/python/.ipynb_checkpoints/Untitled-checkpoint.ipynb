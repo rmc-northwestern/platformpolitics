{
 "cells": [
  {
   "cell_type": "code",
   "execution_count": 8,
   "metadata": {},
   "outputs": [
    {
     "name": "stdout",
     "output_type": "stream",
     "text": [
      "TXSen/BetoORourkeFollowers\n",
      "TXSen/TedCruzFollowers\n"
     ]
    }
   ],
   "source": [
    "from sklearn.feature_extraction.text import TfidfVectorizer, CountVectorizer\n",
    "from sklearn.naive_bayes import MultinomialNB, ComplementNB\n",
    "import numpy as np\n",
    "import os, pickle\n",
    "\n",
    "\n",
    "labels = []\n",
    "users = []\n",
    "\n",
    "basedir = \"TXSen\"\n",
    "\n",
    "#create labels and list of file paths, ignore non .txt\n",
    "for folder in os.listdir(basedir).reverse():\n",
    "    print(basedir + '/' + folder)\n",
    "    for filename in os.listdir(basedir + '/' + folder):\n",
    "        if filename.endswith(\".txt\"):\n",
    "            labels.append(folder)\n",
    "            users.append(basedir + '/' + folder + '/' + filename)\n",
    "        else:\n",
    "            continue\n",
    "\n",
    "observations = []\n",
    "\n",
    "\n",
    "\n",
    "#unpack list of filepaths into list of corpora\n",
    "for user in users:\n",
    "    #print(user)\n",
    "    file = open(user, 'rb')\n",
    "    x = pickle.load(file)\n",
    "    corpus = \"\"\n",
    "    for tweet in x:\n",
    "        corpus += tweet\n",
    "    observations.append(corpus)"
   ]
  },
  {
   "cell_type": "code",
   "execution_count": 11,
   "metadata": {},
   "outputs": [
    {
     "name": "stdout",
     "output_type": "stream",
     "text": [
      "Vectorized!\n"
     ]
    }
   ],
   "source": [
    "vectorizer = TfidfVectorizer(input=\"content\")#,ngram_range=(1,5))\n",
    "freq_vects = vectorizer.fit_transform(observations[5:2995])\n",
    "print(\"Vectorized!\")"
   ]
  },
  {
   "cell_type": "code",
   "execution_count": 17,
   "metadata": {},
   "outputs": [
    {
     "name": "stdout",
     "output_type": "stream",
     "text": [
      "Trained!\n"
     ]
    }
   ],
   "source": [
    "CNBclf = ComplementNB().fit(freq_vects, labels[5:2995])\n",
    "#print(vectorizer.get_feature_names())\n",
    "print(\"Trained!\")"
   ]
  },
  {
   "cell_type": "code",
   "execution_count": 18,
   "metadata": {},
   "outputs": [
    {
     "name": "stdout",
     "output_type": "stream",
     "text": [
      "['BetoORourkeFollowers']\n",
      "['BetoORourkeFollowers']\n",
      "['BetoORourkeFollowers']\n",
      "['BetoORourkeFollowers']\n",
      "['BetoORourkeFollowers']\n",
      "----------------------\n",
      "['TedCruzFollowers']\n",
      "['BetoORourkeFollowers']\n",
      "['BetoORourkeFollowers']\n",
      "['BetoORourkeFollowers']\n",
      "['BetoORourkeFollowers']\n"
     ]
    }
   ],
   "source": [
    "for test in observations[:5]:\n",
    "    print(CNBclf.predict( vectorizer.transform([test]) ))\n",
    "\n",
    "print(\"----------------------\")\n",
    "\n",
    "for test in observations[2995:]:\n",
    "    print(CNBclf.predict( vectorizer.transform([test]) ))"
   ]
  }
 ],
 "metadata": {
  "kernelspec": {
   "display_name": "Python 3",
   "language": "python",
   "name": "python3"
  },
  "language_info": {
   "codemirror_mode": {
    "name": "ipython",
    "version": 3
   },
   "file_extension": ".py",
   "mimetype": "text/x-python",
   "name": "python",
   "nbconvert_exporter": "python",
   "pygments_lexer": "ipython3",
   "version": "3.6.5"
  }
 },
 "nbformat": 4,
 "nbformat_minor": 2
}
